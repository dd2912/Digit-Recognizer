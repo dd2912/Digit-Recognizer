{
 "cells": [
  {
   "cell_type": "markdown",
   "metadata": {
    "_uuid": "a98050d29f40adccc3360218a9b0679b493060fe"
   },
   "source": [
    "## Loading in and checking the data"
   ]
  },
  {
   "cell_type": "code",
   "execution_count": 1,
   "metadata": {
    "_cell_guid": "b1076dfc-b9ad-4769-8c92-a6c4dae69d19",
    "_uuid": "8f2839f25d086af736a60e9eeb907d3b93b6e0e5"
   },
   "outputs": [
    {
     "name": "stderr",
     "output_type": "stream",
     "text": [
      "Using plaidml.keras.backend backend.\n"
     ]
    }
   ],
   "source": [
    "import pandas as pd\n",
    "import numpy as np\n",
    "import matplotlib.pyplot as plt\n",
    "import matplotlib.image as mpimg\n",
    "%matplotlib inline\n",
    "import os\n",
    "\n",
    "np.random.seed(2)\n",
    "\n",
    "from sklearn.model_selection import train_test_split\n",
    "from sklearn.metrics import confusion_matrix\n",
    "import itertools\n",
    "\n",
    "os.environ[\"KERAS_BACKEND\"] = \"plaidml.keras.backend\"\n",
    "\n",
    "from keras.utils.np_utils import to_categorical # convert to one-hot-encoding\n",
    "from keras.models import Sequential\n",
    "from keras.layers import Dense, Dropout, Flatten, Conv2D, MaxPool2D\n",
    "from keras.optimizers import RMSprop\n",
    "from keras.preprocessing.image import ImageDataGenerator\n",
    "from keras.callbacks import ReduceLROnPlateau\n"
   ]
  },
  {
   "cell_type": "code",
   "execution_count": 2,
   "metadata": {},
   "outputs": [],
   "source": [
    "train_data = pd.read_csv(\"./datasets/train.csv\")\n",
    "test_data = pd.read_csv(\"./datasets/test.csv\")"
   ]
  },
  {
   "cell_type": "markdown",
   "metadata": {
    "_uuid": "31836e63382dad6d5a5f24cec4df24f105bde875"
   },
   "source": [
    "## Splitting the data and its label"
   ]
  },
  {
   "cell_type": "code",
   "execution_count": 3,
   "metadata": {
    "_cell_guid": "79c7e3d0-c299-4dcb-8224-4455121ee9b0",
    "_uuid": "d629ff2d2480ee46fbb7e2d37f6b5fab8052498a"
   },
   "outputs": [
    {
     "data": {
      "text/plain": [
       "<matplotlib.axes._subplots.AxesSubplot at 0x1020dd780>"
      ]
     },
     "execution_count": 3,
     "metadata": {},
     "output_type": "execute_result"
    },
    {
     "data": {
      "image/png": "[encoded data removed]",
      "text/plain": [
       "<Figure size 432x288 with 1 Axes>"
      ]
     },
     "metadata": {
      "needs_background": "light"
     },
     "output_type": "display_data"
    }
   ],
   "source": [
    "train_label = train_data['label']\n",
    "train_data = train_data.drop('label', axis=1)\n",
    "train_label.hist()"
   ]
  },
  {
   "cell_type": "code",
   "execution_count": 4,
   "metadata": {
    "_uuid": "0fc59a6cabf8f5953a4e06314bbd8e30c993590d"
   },
   "outputs": [],
   "source": [
    "train_data = train_data / 255.0\n",
    "test_data = test_data / 255.0"
   ]
  },
  {
   "cell_type": "code",
   "execution_count": 5,
   "metadata": {},
   "outputs": [],
   "source": [
    "train_data = train_data.values.reshape(-1,28,28,1)\n",
    "test_data = test_data.values.reshape(-1,28,28,1)"
   ]
  },
  {
   "cell_type": "code",
   "execution_count": 6,
   "metadata": {},
   "outputs": [],
   "source": [
    "train_label = to_categorical(train_label, num_classes=10)"
   ]
  },
  {
   "cell_type": "code",
   "execution_count": 7,
   "metadata": {},
   "outputs": [],
   "source": [
    "s_train_data, s_val_data, s_train_label, s_val_label = train_test_split(train_data, train_label, test_size=0.1, stratify=train_label)"
   ]
  },
  {
   "cell_type": "markdown",
   "metadata": {
    "_uuid": "de7c10e92e0ea4fd95b47fce47ac854fa8ba6821"
   },
   "source": [
    "## Checking the image quality of a random value"
   ]
  },
  {
   "cell_type": "code",
   "execution_count": 10,
   "metadata": {
    "_uuid": "1765ab2eadd35dfdc33a9ceb38de2fd42cc093d8"
   },
   "outputs": [
    {
     "data": {
      "image/png": "[encoded data removed]",
      "text/plain": [
       "<Figure size 432x288 with 1 Axes>"
      ]
     },
     "metadata": {
      "needs_background": "light"
     },
     "output_type": "display_data"
    }
   ],
   "source": [
    "some_digit = s_train_data[2000]\n",
    "some_digit_image = some_digit[:,:,0]\n",
    "\n",
    "plt.imshow(some_digit_image, interpolation='nearest')\n",
    "\n",
    "plt.axis('off')\n",
    "plt.show()\n"
   ]
  },
  {
   "cell_type": "markdown",
   "metadata": {
    "_uuid": "44d0b9bd6afb17922e40be8405d150f38d8134a9"
   },
   "source": [
    "# Attempting to solve using a CNN"
   ]
  },
  {
   "cell_type": "code",
   "execution_count": 11,
   "metadata": {
    "_uuid": "02ccf14f347aa6d81e6239ba9864e9534f6886e8"
   },
   "outputs": [
    {
     "name": "stderr",
     "output_type": "stream",
     "text": [
      "INFO:plaidml:Opening device \"metal_amd_radeon_vega_frontier_edition.0\"\n"
     ]
    }
   ],
   "source": [
    "model = Sequential()\n",
    "\n",
    "model.add(Conv2D(filters = 32, kernel_size = (5,5),padding = 'Same', \n",
    "                 activation ='relu', input_shape = (28,28,1)))\n",
    "model.add(Conv2D(filters = 32, kernel_size = (5,5),padding = 'Same', \n",
    "                 activation ='relu'))\n",
    "model.add(MaxPool2D(pool_size=(2,2)))\n",
    "model.add(Dropout(0.25))\n",
    "\n",
    "\n",
    "model.add(Conv2D(filters = 64, kernel_size = (3,3),padding = 'Same', \n",
    "                 activation ='relu'))\n",
    "model.add(Conv2D(filters = 64, kernel_size = (3,3),padding = 'Same', \n",
    "                 activation ='relu'))\n",
    "model.add(MaxPool2D(pool_size=(2,2), strides=(2,2)))\n",
    "model.add(Dropout(0.25))\n",
    "\n",
    "\n",
    "model.add(Flatten())\n",
    "model.add(Dense(256, activation = \"relu\"))\n",
    "model.add(Dropout(0.5))\n",
    "model.add(Dense(10, activation = \"softmax\"))\n",
    "\n",
    "# Define the optimizer\n",
    "optimizer = RMSprop(lr=0.001, rho=0.9, epsilon=1e-08, decay=0.0)\n",
    "\n",
    "# Compile the model\n",
    "model.compile(optimizer = optimizer , loss = \"categorical_crossentropy\", metrics=[\"accuracy\"])"
   ]
  },
  {
   "cell_type": "code",
   "execution_count": 12,
   "metadata": {
    "_uuid": "387e93667da8c4e60c31fbbd9fa5a2c6b92d703b"
   },
   "outputs": [],
   "source": [
    "# Set a learning rate annealer\n",
    "learning_rate_reduction = ReduceLROnPlateau(monitor='val_acc', \n",
    "                                            patience=3, \n",
    "                                            verbose=1, \n",
    "                                            factor=0.5, \n",
    "                                            min_lr=0.00001)\n",
    "\n",
    "epochs = 30\n",
    "batch_size = 7680 # Warning size choosen based on a GPU with 16GB of memory and utalizes ~95%."
   ]
  },
  {
   "cell_type": "markdown",
   "metadata": {},
   "source": [
    "## Testing results with given data"
   ]
  },
  {
   "cell_type": "code",
   "execution_count": null,
   "metadata": {},
   "outputs": [
    {
     "name": "stdout",
     "output_type": "stream",
     "text": [
      "Train on 37800 samples, validate on 4200 samples\n",
      "Epoch 1/60\n"
     ]
    },
    {
     "name": "stderr",
     "output_type": "stream",
     "text": [
      "INFO:plaidml:Analyzing Ops: 121 of 303 operations complete\n",
      "INFO:plaidml:Analyzing Ops: 121 of 303 operations complete\n"
     ]
    },
    {
     "name": "stdout",
     "output_type": "stream",
     "text": [
      " - 31s - loss: 2.1989 - acc: 0.2832 - val_loss: 1.9564 - val_acc: 0.5255\n",
      "Epoch 2/60\n",
      " - 71s - loss: 1.7312 - acc: 0.5188 - val_loss: 1.0468 - val_acc: 0.7514\n",
      "Epoch 3/60\n",
      " - 89s - loss: 0.9358 - acc: 0.7110 - val_loss: 0.5692 - val_acc: 0.8443\n",
      "Epoch 4/60\n",
      " - 92s - loss: 0.6322 - acc: 0.7983 - val_loss: 0.5145 - val_acc: 0.8236\n",
      "Epoch 5/60\n",
      " - 85s - loss: 0.5040 - acc: 0.8309 - val_loss: 0.2531 - val_acc: 0.9255\n",
      "Epoch 6/60\n",
      " - 83s - loss: 0.3279 - acc: 0.8965 - val_loss: 0.2487 - val_acc: 0.9160\n",
      "Epoch 7/60\n",
      " - 87s - loss: 0.3241 - acc: 0.8972 - val_loss: 0.4088 - val_acc: 0.8714\n",
      "Epoch 8/60\n",
      " - 87s - loss: 0.4067 - acc: 0.8712 - val_loss: 0.1621 - val_acc: 0.9436\n",
      "Epoch 9/60\n",
      " - 87s - loss: 0.2116 - acc: 0.9347 - val_loss: 0.1343 - val_acc: 0.9571\n",
      "Epoch 10/60\n"
     ]
    }
   ],
   "source": [
    "history = model.fit(s_train_data, s_train_label, batch_size = batch_size, epochs = epochs, \n",
    "validation_data = (s_val_data, s_val_label), verbose = 2)\n"
   ]
  },
  {
   "cell_type": "markdown",
   "metadata": {},
   "source": [
    "## Generating more data!"
   ]
  },
  {
   "cell_type": "code",
   "execution_count": 24,
   "metadata": {},
   "outputs": [],
   "source": [
    "datagen = ImageDataGenerator(\n",
    "        featurewise_center=False,  # set input mean to 0 over the dataset\n",
    "        samplewise_center=False,  # set each sample mean to 0\n",
    "        featurewise_std_normalization=False,  # divide inputs by std of the dataset\n",
    "        samplewise_std_normalization=False,  # divide each input by its std\n",
    "        zca_whitening=False,  # apply ZCA whitening\n",
    "        rotation_range=10,  # randomly rotate images in the range (degrees, 0 to 180)\n",
    "        zoom_range = 0.1, # Randomly zoom image \n",
    "        width_shift_range=0.1,  # randomly shift images horizontally (fraction of total width)\n",
    "        height_shift_range=0.1,  # randomly shift images vertically (fraction of total height)\n",
    "        horizontal_flip=False,  # randomly flip images\n",
    "        vertical_flip=False)  # randomly flip images"
   ]
  },
  {
   "cell_type": "code",
   "execution_count": 25,
   "metadata": {},
   "outputs": [],
   "source": [
    "datagen.fit(s_train_data)"
   ]
  },
  {
   "cell_type": "code",
   "execution_count": 34,
   "metadata": {},
   "outputs": [
    {
     "name": "stdout",
     "output_type": "stream",
     "text": [
      "Epoch 1/60\n",
      " - 21s - loss: 0.0468 - acc: 0.9874 - val_loss: 0.0290 - val_acc: 0.9931\n",
      "Epoch 2/60\n",
      " - 22s - loss: 0.0469 - acc: 0.9860 - val_loss: 0.0293 - val_acc: 0.9926\n",
      "Epoch 3/60\n",
      " - 21s - loss: 0.0470 - acc: 0.9869 - val_loss: 0.0286 - val_acc: 0.9926\n",
      "Epoch 4/60\n",
      " - 21s - loss: 0.0443 - acc: 0.9885 - val_loss: 0.0288 - val_acc: 0.9921\n",
      "Epoch 5/60\n",
      " - 22s - loss: 0.0453 - acc: 0.9876 - val_loss: 0.0283 - val_acc: 0.9926\n",
      "Epoch 6/60\n",
      " - 22s - loss: 0.0465 - acc: 0.9870 - val_loss: 0.0279 - val_acc: 0.9926\n",
      "Epoch 7/60\n",
      " - 22s - loss: 0.0445 - acc: 0.9874 - val_loss: 0.0282 - val_acc: 0.9926\n",
      "Epoch 8/60\n",
      " - 22s - loss: 0.0444 - acc: 0.9871 - val_loss: 0.0299 - val_acc: 0.9926\n",
      "Epoch 9/60\n",
      " - 22s - loss: 0.0449 - acc: 0.9879 - val_loss: 0.0313 - val_acc: 0.9924\n",
      "Epoch 10/60\n",
      " - 22s - loss: 0.0417 - acc: 0.9874 - val_loss: 0.0303 - val_acc: 0.9921\n",
      "Epoch 11/60\n",
      " - 21s - loss: 0.0467 - acc: 0.9867 - val_loss: 0.0305 - val_acc: 0.9924\n",
      "Epoch 12/60\n",
      " - 21s - loss: 0.0485 - acc: 0.9867 - val_loss: 0.0303 - val_acc: 0.9931\n",
      "Epoch 13/60\n",
      " - 22s - loss: 0.0492 - acc: 0.9866 - val_loss: 0.0289 - val_acc: 0.9929\n",
      "Epoch 14/60\n",
      " - 22s - loss: 0.0453 - acc: 0.9874 - val_loss: 0.0284 - val_acc: 0.9926\n",
      "Epoch 15/60\n",
      " - 22s - loss: 0.0447 - acc: 0.9870 - val_loss: 0.0283 - val_acc: 0.9929\n",
      "Epoch 16/60\n",
      " - 22s - loss: 0.0429 - acc: 0.9877 - val_loss: 0.0287 - val_acc: 0.9929\n",
      "Epoch 17/60\n",
      " - 22s - loss: 0.0449 - acc: 0.9872 - val_loss: 0.0291 - val_acc: 0.9926\n",
      "Epoch 18/60\n",
      " - 21s - loss: 0.0462 - acc: 0.9871 - val_loss: 0.0288 - val_acc: 0.9929\n",
      "Epoch 19/60\n",
      " - 22s - loss: 0.0434 - acc: 0.9879 - val_loss: 0.0290 - val_acc: 0.9929\n",
      "Epoch 20/60\n",
      " - 22s - loss: 0.0453 - acc: 0.9872 - val_loss: 0.0293 - val_acc: 0.9929\n",
      "Epoch 21/60\n",
      " - 21s - loss: 0.0492 - acc: 0.9862 - val_loss: 0.0282 - val_acc: 0.9931\n",
      "Epoch 22/60\n",
      " - 21s - loss: 0.0458 - acc: 0.9868 - val_loss: 0.0291 - val_acc: 0.9933\n",
      "Epoch 23/60\n",
      " - 22s - loss: 0.0451 - acc: 0.9877 - val_loss: 0.0288 - val_acc: 0.9936\n",
      "Epoch 24/60\n",
      " - 22s - loss: 0.0453 - acc: 0.9872 - val_loss: 0.0312 - val_acc: 0.9933\n",
      "Epoch 25/60\n",
      " - 22s - loss: 0.0478 - acc: 0.9870 - val_loss: 0.0303 - val_acc: 0.9936\n",
      "Epoch 26/60\n",
      " - 22s - loss: 0.0468 - acc: 0.9869 - val_loss: 0.0318 - val_acc: 0.9931\n",
      "Epoch 27/60\n",
      " - 22s - loss: 0.0459 - acc: 0.9873 - val_loss: 0.0326 - val_acc: 0.9929\n",
      "Epoch 28/60\n",
      " - 22s - loss: 0.0447 - acc: 0.9877 - val_loss: 0.0323 - val_acc: 0.9929\n",
      "Epoch 29/60\n",
      " - 22s - loss: 0.0441 - acc: 0.9877 - val_loss: 0.0315 - val_acc: 0.9929\n",
      "Epoch 30/60\n",
      " - 22s - loss: 0.0433 - acc: 0.9875 - val_loss: 0.0331 - val_acc: 0.9921\n",
      "Epoch 31/60\n",
      " - 22s - loss: 0.0483 - acc: 0.9862 - val_loss: 0.0319 - val_acc: 0.9929\n",
      "Epoch 32/60\n",
      " - 22s - loss: 0.0471 - acc: 0.9868 - val_loss: 0.0344 - val_acc: 0.9926\n",
      "Epoch 33/60\n",
      " - 21s - loss: 0.0440 - acc: 0.9872 - val_loss: 0.0325 - val_acc: 0.9931\n",
      "Epoch 34/60\n",
      " - 22s - loss: 0.0429 - acc: 0.9876 - val_loss: 0.0339 - val_acc: 0.9931\n",
      "Epoch 35/60\n",
      " - 21s - loss: 0.0486 - acc: 0.9864 - val_loss: 0.0336 - val_acc: 0.9933\n",
      "Epoch 36/60\n",
      " - 22s - loss: 0.0443 - acc: 0.9876 - val_loss: 0.0329 - val_acc: 0.9931\n",
      "Epoch 37/60\n",
      " - 21s - loss: 0.0459 - acc: 0.9872 - val_loss: 0.0348 - val_acc: 0.9926\n",
      "Epoch 38/60\n",
      " - 22s - loss: 0.0422 - acc: 0.9883 - val_loss: 0.0359 - val_acc: 0.9924\n",
      "Epoch 39/60\n",
      " - 21s - loss: 0.0448 - acc: 0.9872 - val_loss: 0.0342 - val_acc: 0.9929\n",
      "Epoch 40/60\n",
      " - 21s - loss: 0.0439 - acc: 0.9875 - val_loss: 0.0341 - val_acc: 0.9926\n",
      "Epoch 41/60\n",
      " - 22s - loss: 0.0444 - acc: 0.9875 - val_loss: 0.0328 - val_acc: 0.9929\n",
      "Epoch 42/60\n",
      " - 22s - loss: 0.0438 - acc: 0.9877 - val_loss: 0.0351 - val_acc: 0.9926\n",
      "Epoch 43/60\n",
      " - 22s - loss: 0.0437 - acc: 0.9872 - val_loss: 0.0341 - val_acc: 0.9929\n",
      "Epoch 44/60\n",
      " - 22s - loss: 0.0444 - acc: 0.9884 - val_loss: 0.0337 - val_acc: 0.9931\n",
      "Epoch 45/60\n",
      " - 21s - loss: 0.0454 - acc: 0.9874 - val_loss: 0.0339 - val_acc: 0.9926\n",
      "Epoch 46/60\n",
      " - 22s - loss: 0.0455 - acc: 0.9864 - val_loss: 0.0346 - val_acc: 0.9926\n",
      "Epoch 47/60\n",
      " - 22s - loss: 0.0452 - acc: 0.9863 - val_loss: 0.0351 - val_acc: 0.9929\n",
      "Epoch 48/60\n",
      " - 22s - loss: 0.0457 - acc: 0.9876 - val_loss: 0.0347 - val_acc: 0.9929\n",
      "Epoch 49/60\n",
      " - 21s - loss: 0.0434 - acc: 0.9880 - val_loss: 0.0343 - val_acc: 0.9929\n",
      "Epoch 50/60\n",
      " - 22s - loss: 0.0434 - acc: 0.9885 - val_loss: 0.0344 - val_acc: 0.9929\n",
      "Epoch 51/60\n",
      " - 22s - loss: 0.0453 - acc: 0.9874 - val_loss: 0.0332 - val_acc: 0.9936\n",
      "Epoch 52/60\n",
      " - 22s - loss: 0.0396 - acc: 0.9880 - val_loss: 0.0358 - val_acc: 0.9933\n",
      "Epoch 53/60\n",
      " - 22s - loss: 0.0421 - acc: 0.9879 - val_loss: 0.0362 - val_acc: 0.9933\n",
      "Epoch 54/60\n",
      " - 22s - loss: 0.0456 - acc: 0.9880 - val_loss: 0.0365 - val_acc: 0.9933\n",
      "Epoch 55/60\n",
      " - 22s - loss: 0.0427 - acc: 0.9876 - val_loss: 0.0356 - val_acc: 0.9931\n",
      "Epoch 56/60\n",
      " - 22s - loss: 0.0423 - acc: 0.9879 - val_loss: 0.0346 - val_acc: 0.9933\n",
      "Epoch 57/60\n",
      " - 21s - loss: 0.0437 - acc: 0.9876 - val_loss: 0.0346 - val_acc: 0.9931\n",
      "Epoch 58/60\n",
      " - 22s - loss: 0.0416 - acc: 0.9878 - val_loss: 0.0335 - val_acc: 0.9931\n",
      "Epoch 59/60\n",
      " - 22s - loss: 0.0443 - acc: 0.9876 - val_loss: 0.0359 - val_acc: 0.9933\n",
      "Epoch 60/60\n",
      " - 21s - loss: 0.0448 - acc: 0.9871 - val_loss: 0.0355 - val_acc: 0.9931\n"
     ]
    }
   ],
   "source": [
    "import scipy.ndimage\n",
    "history = model.fit_generator(datagen.flow(s_train_data,s_train_label, batch_size=batch_size),\n",
    "                              epochs = epochs, validation_data = (s_val_data,s_val_label),\n",
    "                              verbose = 2, steps_per_epoch=s_train_data.shape[0] // batch_size\n",
    "                              , callbacks=[learning_rate_reduction])"
   ]
  },
  {
   "cell_type": "markdown",
   "metadata": {},
   "source": [
    "## Building our results"
   ]
  },
  {
   "cell_type": "code",
   "execution_count": 35,
   "metadata": {},
   "outputs": [],
   "source": [
    "results = model.predict(test_data)"
   ]
  },
  {
   "cell_type": "code",
   "execution_count": 36,
   "metadata": {},
   "outputs": [],
   "source": [
    "results = np.argmax(results,axis = 1)"
   ]
  },
  {
   "cell_type": "code",
   "execution_count": 21,
   "metadata": {},
   "outputs": [
    {
     "data": {
      "image/png": "[encoded data removed]",
      "text/plain": [
       "<Figure size 1080x432 with 40 Axes>"
      ]
     },
     "metadata": {
      "needs_background": "light"
     },
     "output_type": "display_data"
    }
   ],
   "source": [
    "# Preview predictions\n",
    "plt.figure(figsize=(15,6))\n",
    "for i in range(40):  \n",
    "    plt.subplot(4, 10, i+1)\n",
    "    plt.imshow(test_data[i][:,:,0])\n",
    "    plt.title(\"predict=%d\" % results[i],y=0.9)\n",
    "    plt.axis('off')\n",
    "plt.subplots_adjust(wspace=0.3, hspace=-0.1)\n",
    "plt.show()"
   ]
  },
  {
   "cell_type": "code",
   "execution_count": 37,
   "metadata": {},
   "outputs": [],
   "source": [
    "# Exporting our results for Kaggle\n",
    "df = pd.DataFrame(results)\n",
    "df.index.name='ImageId'\n",
    "df.index+=1\n",
    "df.columns=['Label']\n",
    "df.to_csv('./datasets/results.csv', header=True)"
   ]
  },
  {
   "cell_type": "code",
   "execution_count": null,
   "metadata": {},
   "outputs": [],
   "source": []
  }
 ],
 "metadata": {
  "kernelspec": {
   "display_name": "Python 3",
   "language": "python",
   "name": "python3"
  },
  "language_info": {
   "codemirror_mode": {
    "name": "ipython",
    "version": 3
   },
   "file_extension": ".py",
   "mimetype": "text/x-python",
   "name": "python",
   "nbconvert_exporter": "python",
   "pygments_lexer": "ipython3",
   "version": "3.6.7"
  }
 },
 "nbformat": 4,
 "nbformat_minor": 1
}
