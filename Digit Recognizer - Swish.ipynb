{
 "cells": [
  {
   "cell_type": "markdown",
   "metadata": {
    "_uuid": "a98050d29f40adccc3360218a9b0679b493060fe"
   },
   "source": [
    "## Loading in and checking the data"
   ]
  },
  {
   "cell_type": "code",
   "execution_count": 1,
   "metadata": {
    "_cell_guid": "b1076dfc-b9ad-4769-8c92-a6c4dae69d19",
    "_uuid": "8f2839f25d086af736a60e9eeb907d3b93b6e0e5"
   },
   "outputs": [
    {
     "name": "stderr",
     "output_type": "stream",
     "text": [
      "Using plaidml.keras.backend backend.\n"
     ]
    }
   ],
   "source": [
    "import pandas as pd\n",
    "import numpy as np\n",
    "import matplotlib.pyplot as plt\n",
    "import matplotlib.image as mpimg\n",
    "%matplotlib inline\n",
    "import os\n",
    "\n",
    "np.random.seed(2)\n",
    "\n",
    "from sklearn.model_selection import train_test_split\n",
    "from sklearn.metrics import confusion_matrix\n",
    "import itertools\n",
    "\n",
    "os.environ[\"KERAS_BACKEND\"] = \"plaidml.keras.backend\"\n",
    "\n",
    "from keras.utils.np_utils import to_categorical # convert to one-hot-encoding\n",
    "from keras.models import Sequential\n",
    "from keras.layers import Dense, BatchNormalization, Flatten, Conv2D, MaxPool2D\n",
    "from keras.optimizers import adam\n",
    "from keras.preprocessing.image import ImageDataGenerator\n",
    "from keras.callbacks import ReduceLROnPlateau\n"
   ]
  },
  {
   "cell_type": "code",
   "execution_count": 2,
   "metadata": {},
   "outputs": [],
   "source": [
    "train_data = pd.read_csv(\"./datasets/train.csv\")\n",
    "test_data = pd.read_csv(\"./datasets/test.csv\")"
   ]
  },
  {
   "cell_type": "markdown",
   "metadata": {
    "_uuid": "31836e63382dad6d5a5f24cec4df24f105bde875"
   },
   "source": [
    "## Splitting the data and its label"
   ]
  },
  {
   "cell_type": "code",
   "execution_count": 3,
   "metadata": {
    "_cell_guid": "79c7e3d0-c299-4dcb-8224-4455121ee9b0",
    "_uuid": "d629ff2d2480ee46fbb7e2d37f6b5fab8052498a"
   },
   "outputs": [
    {
     "data": {
      "text/plain": [
       "<matplotlib.axes._subplots.AxesSubplot at 0x1a185d9240>"
      ]
     },
     "execution_count": 3,
     "metadata": {},
     "output_type": "execute_result"
    },
    {
     "data": {
      "image/png": "[encoded data removed]",
      "text/plain": [
       "<Figure size 432x288 with 1 Axes>"
      ]
     },
     "metadata": {
      "needs_background": "light"
     },
     "output_type": "display_data"
    }
   ],
   "source": [
    "train_label = train_data['label']\n",
    "train_data = train_data.drop('label', axis=1)\n",
    "train_label.hist()"
   ]
  },
  {
   "cell_type": "code",
   "execution_count": 4,
   "metadata": {
    "_uuid": "0fc59a6cabf8f5953a4e06314bbd8e30c993590d"
   },
   "outputs": [],
   "source": [
    "train_data = train_data / 255.0\n",
    "test_data = test_data / 255.0"
   ]
  },
  {
   "cell_type": "code",
   "execution_count": null,
   "metadata": {},
   "outputs": [],
   "source": [
    "train_data = train_data.values.reshape(-1,28,28,1)\n",
    "test_data = test_data.values.reshape(-1,28,28,1)"
   ]
  },
  {
   "cell_type": "code",
   "execution_count": null,
   "metadata": {},
   "outputs": [],
   "source": [
    "train_label = to_categorical(train_label, num_classes=10)"
   ]
  },
  {
   "cell_type": "code",
   "execution_count": null,
   "metadata": {},
   "outputs": [],
   "source": [
    "X_train, X_test, y_train, y_test = train_test_split(train_data, train_label, test_size=0.2, stratify=train_label)"
   ]
  },
  {
   "cell_type": "markdown",
   "metadata": {
    "_uuid": "de7c10e92e0ea4fd95b47fce47ac854fa8ba6821"
   },
   "source": [
    "## Checking the image quality of a random value"
   ]
  },
  {
   "cell_type": "code",
   "execution_count": null,
   "metadata": {
    "_uuid": "1765ab2eadd35dfdc33a9ceb38de2fd42cc093d8",
    "scrolled": true
   },
   "outputs": [
    {
     "data": {
      "image/png": "[encoded data removed]",
      "text/plain": [
       "<Figure size 432x288 with 1 Axes>"
      ]
     },
     "metadata": {
      "needs_background": "light"
     },
     "output_type": "display_data"
    }
   ],
   "source": [
    "some_digit = X_train[2000]\n",
    "some_digit_image = some_digit[:,:,0]\n",
    "\n",
    "plt.imshow(some_digit_image, interpolation='nearest', cmap='gray')\n",
    "\n",
    "plt.axis('off')\n",
    "plt.show()\n"
   ]
  },
  {
   "cell_type": "markdown",
   "metadata": {},
   "source": [
    "## Create Swish Activation Function\n",
    "\n",
    "swish(x) = x * sigmoid(beta * x)"
   ]
  },
  {
   "cell_type": "code",
   "execution_count": null,
   "metadata": {},
   "outputs": [],
   "source": [
    "from keras.backend import sigmoid\n",
    "from keras.utils.generic_utils import get_custom_objects\n",
    "from keras.layers import Activation\n",
    "\n",
    "def swish(x, beta = 1):\n",
    "    return (x * sigmoid(beta * x))\n",
    "\n",
    "get_custom_objects().update({'swish': Activation(swish)})"
   ]
  },
  {
   "cell_type": "markdown",
   "metadata": {
    "_uuid": "44d0b9bd6afb17922e40be8405d150f38d8134a9"
   },
   "source": [
    "# Attempting to solve using a CNN"
   ]
  },
  {
   "cell_type": "code",
   "execution_count": null,
   "metadata": {
    "_uuid": "02ccf14f347aa6d81e6239ba9864e9534f6886e8"
   },
   "outputs": [
    {
     "name": "stderr",
     "output_type": "stream",
     "text": [
      "INFO:plaidml:Opening device \"metal_amd_radeon_vega_frontier_edition.0\"\n"
     ]
    }
   ],
   "source": [
    "model = Sequential()\n",
    "\n",
    "get_custom_objects().update({'swish': Activation(swish )})\n",
    "\n",
    "model.add(Conv2D(filters = 32, kernel_size = (3,3),padding = 'Same', \n",
    "                 activation ='relu', input_shape = (28,28,1)))\n",
    "model.add(Conv2D(filters = 32, kernel_size = (3,3),padding = 'Same', \n",
    "                 activation ='relu'))\n",
    "model.add(MaxPool2D(pool_size=(2,2)))\n",
    "# model.add(BatchNormalization())\n",
    "\n",
    "\n",
    "model.add(Conv2D(filters = 64, kernel_size = (3,3),padding = 'Same', \n",
    "                 activation ='relu'))\n",
    "model.add(Conv2D(filters = 64, kernel_size = (3,3),padding = 'Same', \n",
    "                 activation ='relu'))\n",
    "model.add(MaxPool2D(pool_size=(2,2), strides=(2,2)))\n",
    "# model.add(BatchNormalization())\n",
    "\n",
    "\n",
    "model.add(Flatten())\n",
    "model.add(Dense(256, activation = \"swish\"))\n",
    "model.add(Dense(100, activation = \"swish\"))\n",
    "model.add(BatchNormalization())\n",
    "\n",
    "model.add(Dense(10, activation = \"softmax\"))\n",
    "\n",
    "# Define the optimizer\n",
    "\n",
    "optimizer = adam(lr=0.001,  epsilon=1e-08, decay=0.0)\n",
    "\n",
    "# Compile the model\n",
    "model.compile(optimizer = optimizer , loss = \"categorical_crossentropy\", metrics=[\"accuracy\"])"
   ]
  },
  {
   "cell_type": "code",
   "execution_count": null,
   "metadata": {
    "_uuid": "387e93667da8c4e60c31fbbd9fa5a2c6b92d703b"
   },
   "outputs": [],
   "source": [
    "from keras.callbacks import EarlyStopping\n",
    "\n",
    "# Set a learning rate annealer\n",
    "learning_rate_reduction = ReduceLROnPlateau(monitor='val_acc', \n",
    "                                            patience=3, \n",
    "                                            verbose=1, \n",
    "                                            factor=0.5, \n",
    "                                            min_lr=0.00001)\n",
    "\n",
    "early_stopping = EarlyStopping(patience=10, restore_best_weights=True)\n",
    "\n",
    "epochs = 200\n",
    "batch_size = 64 #7680 # Warning size choosen based on a GPU with 16GB of memory and utalizes ~95%."
   ]
  },
  {
   "cell_type": "markdown",
   "metadata": {},
   "source": [
    "## Generating more data!"
   ]
  },
  {
   "cell_type": "code",
   "execution_count": null,
   "metadata": {},
   "outputs": [],
   "source": [
    "datagen = ImageDataGenerator(\n",
    "        featurewise_center=False,  # set input mean to 0 over the dataset\n",
    "        samplewise_center=False,  # set each sample mean to 0\n",
    "        featurewise_std_normalization=False,  # divide inputs by std of the dataset\n",
    "        samplewise_std_normalization=False,  # divide each input by its std\n",
    "        zca_whitening=False,  # apply ZCA whitening\n",
    "        rotation_range=10,  # randomly rotate images in the range (degrees, 0 to 180)\n",
    "        zoom_range = 0.1, # Randomly zoom image \n",
    "        width_shift_range=0.1,  # randomly shift images horizontally (fraction of total width)\n",
    "        height_shift_range=0.1,  # randomly shift images vertically (fraction of total height)\n",
    "        horizontal_flip=False,  # randomly flip images\n",
    "        vertical_flip=False)  # randomly flip images"
   ]
  },
  {
   "cell_type": "code",
   "execution_count": null,
   "metadata": {},
   "outputs": [],
   "source": [
    "datagen.fit(X_train)"
   ]
  },
  {
   "cell_type": "code",
   "execution_count": null,
   "metadata": {},
   "outputs": [
    {
     "name": "stdout",
     "output_type": "stream",
     "text": [
      "Epoch 1/200\n"
     ]
    },
    {
     "name": "stderr",
     "output_type": "stream",
     "text": [
      "INFO:plaidml:Analyzing Ops: 174 of 473 operations complete\n"
     ]
    },
    {
     "name": "stdout",
     "output_type": "stream",
     "text": [
      " - 26s - loss: 0.1884 - acc: 0.9404 - val_loss: 0.0952 - val_acc: 0.9713\n",
      "Epoch 2/200\n",
      " - 15s - loss: 0.0758 - acc: 0.9767 - val_loss: 0.0495 - val_acc: 0.9844\n",
      "Epoch 3/200\n",
      " - 16s - loss: 0.0561 - acc: 0.9821 - val_loss: 0.0599 - val_acc: 0.9826\n",
      "Epoch 4/200\n",
      " - 15s - loss: 0.0493 - acc: 0.9848 - val_loss: 0.0398 - val_acc: 0.9873\n",
      "Epoch 5/200\n",
      " - 16s - loss: 0.0414 - acc: 0.9866 - val_loss: 0.0427 - val_acc: 0.9869\n",
      "Epoch 6/200\n",
      " - 15s - loss: 0.0379 - acc: 0.9876 - val_loss: 0.0444 - val_acc: 0.9852\n",
      "Epoch 7/200\n",
      " - 15s - loss: 0.0321 - acc: 0.9899 - val_loss: 0.0378 - val_acc: 0.9890\n",
      "Epoch 8/200\n",
      " - 15s - loss: 0.0321 - acc: 0.9899 - val_loss: 0.0325 - val_acc: 0.9902\n",
      "Epoch 9/200\n",
      " - 15s - loss: 0.0302 - acc: 0.9907 - val_loss: 0.0312 - val_acc: 0.9912\n",
      "Epoch 10/200\n",
      " - 15s - loss: 0.0273 - acc: 0.9913 - val_loss: 0.0340 - val_acc: 0.9899\n",
      "Epoch 11/200\n",
      " - 15s - loss: 0.0249 - acc: 0.9923 - val_loss: 0.0238 - val_acc: 0.9929\n",
      "Epoch 12/200\n",
      " - 15s - loss: 0.0237 - acc: 0.9926 - val_loss: 0.0376 - val_acc: 0.9893\n",
      "Epoch 13/200\n",
      " - 15s - loss: 0.0209 - acc: 0.9933 - val_loss: 0.0629 - val_acc: 0.9831\n",
      "Epoch 14/200\n",
      " - 15s - loss: 0.0223 - acc: 0.9932 - val_loss: 0.0280 - val_acc: 0.9920\n",
      "\n",
      "Epoch 00014: ReduceLROnPlateau reducing learning rate to 0.0005000000237487257.\n",
      "Epoch 15/200\n",
      " - 15s - loss: 0.0124 - acc: 0.9961 - val_loss: 0.0239 - val_acc: 0.9937\n",
      "Epoch 16/200\n",
      " - 15s - loss: 0.0110 - acc: 0.9965 - val_loss: 0.0222 - val_acc: 0.9946\n",
      "Epoch 17/200\n",
      " - 15s - loss: 0.0097 - acc: 0.9972 - val_loss: 0.0237 - val_acc: 0.9935\n",
      "Epoch 18/200\n",
      " - 15s - loss: 0.0104 - acc: 0.9971 - val_loss: 0.0286 - val_acc: 0.9908\n",
      "Epoch 19/200\n",
      " - 16s - loss: 0.0113 - acc: 0.9960 - val_loss: 0.0226 - val_acc: 0.9935\n",
      "\n",
      "Epoch 00019: ReduceLROnPlateau reducing learning rate to 0.0002500000118743628.\n",
      "Epoch 20/200\n",
      " - 15s - loss: 0.0076 - acc: 0.9978 - val_loss: 0.0206 - val_acc: 0.9946\n",
      "Epoch 21/200\n",
      " - 15s - loss: 0.0069 - acc: 0.9980 - val_loss: 0.0205 - val_acc: 0.9949\n",
      "Epoch 22/200\n",
      " - 15s - loss: 0.0063 - acc: 0.9983 - val_loss: 0.0217 - val_acc: 0.9949\n",
      "Epoch 23/200\n",
      " - 15s - loss: 0.0057 - acc: 0.9984 - val_loss: 0.0239 - val_acc: 0.9944\n",
      "Epoch 24/200\n",
      " - 15s - loss: 0.0055 - acc: 0.9984 - val_loss: 0.0180 - val_acc: 0.9957\n",
      "Epoch 25/200\n",
      " - 15s - loss: 0.0054 - acc: 0.9985 - val_loss: 0.0227 - val_acc: 0.9942\n",
      "Epoch 26/200\n",
      " - 16s - loss: 0.0059 - acc: 0.9984 - val_loss: 0.0233 - val_acc: 0.9944\n",
      "Epoch 27/200\n",
      " - 16s - loss: 0.0048 - acc: 0.9987 - val_loss: 0.0260 - val_acc: 0.9930\n",
      "\n",
      "Epoch 00027: ReduceLROnPlateau reducing learning rate to 0.0001250000059371814.\n",
      "Epoch 28/200\n",
      " - 16s - loss: 0.0043 - acc: 0.9989 - val_loss: 0.0208 - val_acc: 0.9948\n",
      "Epoch 29/200\n",
      " - 16s - loss: 0.0040 - acc: 0.9990 - val_loss: 0.0204 - val_acc: 0.9952\n",
      "Epoch 30/200\n",
      " - 16s - loss: 0.0030 - acc: 0.9991 - val_loss: 0.0204 - val_acc: 0.9948\n",
      "\n",
      "Epoch 00030: ReduceLROnPlateau reducing learning rate to 6.25000029685907e-05.\n",
      "Epoch 31/200\n",
      " - 16s - loss: 0.0032 - acc: 0.9990 - val_loss: 0.0185 - val_acc: 0.9952\n",
      "Epoch 32/200\n",
      " - 16s - loss: 0.0027 - acc: 0.9994 - val_loss: 0.0198 - val_acc: 0.9952\n",
      "Epoch 33/200\n",
      " - 16s - loss: 0.0033 - acc: 0.9991 - val_loss: 0.0203 - val_acc: 0.9950\n",
      "\n",
      "Epoch 00033: ReduceLROnPlateau reducing learning rate to 3.125000148429535e-05.\n",
      "Epoch 34/200\n"
     ]
    }
   ],
   "source": [
    "import scipy.ndimage\n",
    "history = model.fit_generator(datagen.flow(X_train,y_train, batch_size=batch_size),\n",
    "                              epochs = epochs, validation_data = (X_test,y_test),\n",
    "                              verbose = 2, steps_per_epoch=X_train.shape[0] // batch_size\n",
    "                              , callbacks=[learning_rate_reduction, early_stopping])"
   ]
  },
  {
   "cell_type": "markdown",
   "metadata": {},
   "source": [
    "## Building our results"
   ]
  },
  {
   "cell_type": "code",
   "execution_count": null,
   "metadata": {},
   "outputs": [],
   "source": [
    "results = model.predict(test_data)"
   ]
  },
  {
   "cell_type": "code",
   "execution_count": null,
   "metadata": {},
   "outputs": [],
   "source": [
    "results = np.argmax(results,axis = 1)"
   ]
  },
  {
   "cell_type": "code",
   "execution_count": null,
   "metadata": {},
   "outputs": [],
   "source": [
    "# Preview predictions\n",
    "plt.figure(figsize=(15,6))\n",
    "for i in range(40):  \n",
    "    plt.subplot(4, 10, i+1)\n",
    "    plt.imshow(test_data[i][:,:,0], cmap='gray')\n",
    "    plt.title(\"predict=%d\" % results[i],y=0.9)\n",
    "    plt.axis('off')\n",
    "plt.subplots_adjust(wspace=0.3, hspace=-0.1)\n",
    "plt.show()"
   ]
  },
  {
   "cell_type": "code",
   "execution_count": null,
   "metadata": {},
   "outputs": [],
   "source": [
    "# Exporting our results for Kaggle\n",
    "df = pd.DataFrame(results)\n",
    "df.index.name='ImageId'\n",
    "df.index+=1\n",
    "df.columns=['Label']\n",
    "df.to_csv('./datasets/results.csv', header=True)"
   ]
  },
  {
   "cell_type": "code",
   "execution_count": null,
   "metadata": {},
   "outputs": [],
   "source": [
    "import coremltools"
   ]
  },
  {
   "cell_type": "code",
   "execution_count": null,
   "metadata": {},
   "outputs": [],
   "source": []
  }
 ],
 "metadata": {
  "kernelspec": {
   "display_name": "Python 3",
   "language": "python",
   "name": "python3"
  },
  "language_info": {
   "codemirror_mode": {
    "name": "ipython",
    "version": 3
   },
   "file_extension": ".py",
   "mimetype": "text/x-python",
   "name": "python",
   "nbconvert_exporter": "python",
   "pygments_lexer": "ipython3",
   "version": "3.6.7"
  }
 },
 "nbformat": 4,
 "nbformat_minor": 1
}
