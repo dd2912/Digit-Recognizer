{
 "cells": [
  {
   "cell_type": "markdown",
   "metadata": {
    "_uuid": "a98050d29f40adccc3360218a9b0679b493060fe"
   },
   "source": [
    "## Loading in and checking the data"
   ]
  },
  {
   "cell_type": "code",
   "execution_count": 1,
   "metadata": {
    "_cell_guid": "b1076dfc-b9ad-4769-8c92-a6c4dae69d19",
    "_uuid": "8f2839f25d086af736a60e9eeb907d3b93b6e0e5"
   },
   "outputs": [
    {
     "name": "stderr",
     "output_type": "stream",
     "text": [
      "Using plaidml.keras.backend backend.\n"
     ]
    }
   ],
   "source": [
    "import pandas as pd\n",
    "import numpy as np\n",
    "import matplotlib.pyplot as plt\n",
    "import matplotlib.image as mpimg\n",
    "%matplotlib inline\n",
    "import os\n",
    "\n",
    "np.random.seed(2)\n",
    "\n",
    "from sklearn.model_selection import train_test_split\n",
    "from sklearn.metrics import confusion_matrix\n",
    "import itertools\n",
    "\n",
    "os.environ[\"KERAS_BACKEND\"] = \"plaidml.keras.backend\"\n",
    "\n",
    "from keras.utils.np_utils import to_categorical # convert to one-hot-encoding\n",
    "from keras.models import Sequential\n",
    "from keras.layers import Dense, BatchNormalization, Flatten, Conv2D, MaxPool2D\n",
    "from keras.optimizers import adam\n",
    "from keras.preprocessing.image import ImageDataGenerator\n",
    "from keras.callbacks import ReduceLROnPlateau\n"
   ]
  },
  {
   "cell_type": "code",
   "execution_count": 2,
   "metadata": {},
   "outputs": [],
   "source": [
    "train_data = np.load('./datasets/aug_data_obj.npy')\n",
    "train_label = np.load('./datasets/aug_labels_obj.npy')\n",
    "test_data = pd.read_csv('./datasets/test.csv')\n",
    "train_data = pd.DataFrame(train_data)\n",
    "train_label = pd.DataFrame(train_label)"
   ]
  },
  {
   "cell_type": "markdown",
   "metadata": {
    "_uuid": "31836e63382dad6d5a5f24cec4df24f105bde875"
   },
   "source": [
    "## Splitting the data and its label"
   ]
  },
  {
   "cell_type": "code",
   "execution_count": 3,
   "metadata": {
    "_uuid": "0fc59a6cabf8f5953a4e06314bbd8e30c993590d"
   },
   "outputs": [],
   "source": [
    "train_data = train_data / 255.0\n",
    "test_data = test_data / 255.0"
   ]
  },
  {
   "cell_type": "code",
   "execution_count": 4,
   "metadata": {},
   "outputs": [],
   "source": [
    "train_data = train_data.values.reshape(-1,28,28,1)\n",
    "test_data = test_data.values.reshape(-1,28,28,1)"
   ]
  },
  {
   "cell_type": "code",
   "execution_count": 5,
   "metadata": {},
   "outputs": [],
   "source": [
    "train_label = to_categorical(train_label, num_classes=10)"
   ]
  },
  {
   "cell_type": "code",
   "execution_count": 6,
   "metadata": {},
   "outputs": [],
   "source": [
    "X_train, X_test, y_train, y_test = train_test_split(train_data, train_label, test_size=0.002, stratify=train_label)\n",
    "train_data=None"
   ]
  },
  {
   "cell_type": "markdown",
   "metadata": {
    "_uuid": "de7c10e92e0ea4fd95b47fce47ac854fa8ba6821"
   },
   "source": [
    "## Checking the image quality of a random value"
   ]
  },
  {
   "cell_type": "code",
   "execution_count": 7,
   "metadata": {
    "_uuid": "1765ab2eadd35dfdc33a9ceb38de2fd42cc093d8",
    "scrolled": true
   },
   "outputs": [
    {
     "data": {
      "image/png": "[encoded data removed]",
      "text/plain": [
       "<Figure size 432x288 with 1 Axes>"
      ]
     },
     "metadata": {
      "needs_background": "light"
     },
     "output_type": "display_data"
    }
   ],
   "source": [
    "some_digit = X_train[2000]\n",
    "some_digit_image = some_digit[:,:,0]\n",
    "\n",
    "plt.imshow(some_digit_image, interpolation='nearest', cmap='gray')\n",
    "\n",
    "plt.axis('off')\n",
    "plt.show()\n"
   ]
  },
  {
   "cell_type": "markdown",
   "metadata": {},
   "source": [
    "## Create Swish Activation Function\n",
    "\n",
    "swish(x) = x * sigmoid(beta * x)"
   ]
  },
  {
   "cell_type": "code",
   "execution_count": 8,
   "metadata": {},
   "outputs": [],
   "source": [
    "from keras.backend import sigmoid\n",
    "from keras.utils.generic_utils import get_custom_objects\n",
    "from keras.layers import Activation\n",
    "\n",
    "def swish(x, beta = 1):\n",
    "    return (x * sigmoid(beta * x))\n",
    "\n",
    "get_custom_objects().update({'swish': Activation(swish)})"
   ]
  },
  {
   "cell_type": "markdown",
   "metadata": {
    "_uuid": "44d0b9bd6afb17922e40be8405d150f38d8134a9"
   },
   "source": [
    "# Attempting to solve using a CNN"
   ]
  },
  {
   "cell_type": "code",
   "execution_count": 9,
   "metadata": {
    "_uuid": "02ccf14f347aa6d81e6239ba9864e9534f6886e8"
   },
   "outputs": [
    {
     "name": "stderr",
     "output_type": "stream",
     "text": [
      "INFO:plaidml:Opening device \"metal_amd_radeon_vega_frontier_edition.0\"\n"
     ]
    }
   ],
   "source": [
    "model = Sequential()\n",
    "\n",
    "get_custom_objects().update({'swish': Activation(swish )})\n",
    "\n",
    "model.add(Conv2D(filters = 32, kernel_size = (5,5),padding = 'Same', \n",
    "                 activation ='swish', input_shape = (28,28,1)))\n",
    "model.add(Conv2D(filters = 32, kernel_size = (5,5),padding = 'Same', \n",
    "                 activation ='swish'))\n",
    "model.add(MaxPool2D(pool_size=(2,2)))\n",
    "model.add(BatchNormalization())\n",
    "\n",
    "\n",
    "model.add(Conv2D(filters = 64, kernel_size = (3,3),padding = 'Same', \n",
    "                 activation ='swish'))\n",
    "model.add(Conv2D(filters = 64, kernel_size = (3,3),padding = 'Same', \n",
    "                 activation ='swish'))\n",
    "model.add(MaxPool2D(pool_size=(2,2), strides=(2,2)))\n",
    "model.add(BatchNormalization())\n",
    "\n",
    "\n",
    "model.add(Flatten())\n",
    "model.add(Dense(256, activation = \"swish\"))\n",
    "model.add(BatchNormalization())\n",
    "model.add(Dense(100, activation = \"swish\"))\n",
    "\n",
    "model.add(Dense(10, activation = \"softmax\"))\n",
    "\n",
    "# Define the optimizer\n",
    "optimizer = adam(lr=0.001,  epsilon=1e-08, decay=0.0)\n",
    "\n",
    "# Compile the model\n",
    "model.compile(optimizer = optimizer , loss = \"categorical_crossentropy\", metrics=[\"accuracy\"])"
   ]
  },
  {
   "cell_type": "code",
   "execution_count": 10,
   "metadata": {
    "_uuid": "387e93667da8c4e60c31fbbd9fa5a2c6b92d703b"
   },
   "outputs": [],
   "source": [
    "from keras.callbacks import EarlyStopping\n",
    "\n",
    "# Set a learning rate annealer\n",
    "learning_rate_reduction = ReduceLROnPlateau(monitor='val_acc', \n",
    "                                            patience=3, \n",
    "                                            verbose=1, \n",
    "                                            factor=0.5, \n",
    "                                            min_lr=0.00001)\n",
    "\n",
    "early_stopping = EarlyStopping(patience=10, min_delta=0.0001, restore_best_weights=True)\n",
    "\n",
    "epochs = 500\n",
    "batch_size = 1024"
   ]
  },
  {
   "cell_type": "markdown",
   "metadata": {},
   "source": [
    "## Generating more data!"
   ]
  },
  {
   "cell_type": "code",
   "execution_count": 11,
   "metadata": {},
   "outputs": [],
   "source": [
    "datagen = ImageDataGenerator(\n",
    "        featurewise_center=False,  # set input mean to 0 over the dataset\n",
    "        samplewise_center=False,  # set each sample mean to 0\n",
    "        featurewise_std_normalization=False,  # divide inputs by std of the dataset\n",
    "        samplewise_std_normalization=False,  # divide each input by its std\n",
    "        zca_whitening=False,  # apply ZCA whitening\n",
    "        rotation_range=10,  # randomly rotate images in the range (degrees, 0 to 180)\n",
    "        zoom_range = 0.1, # Randomly zoom image \n",
    "        width_shift_range=0.1,  # randomly shift images horizontally (fraction of total width)\n",
    "        height_shift_range=0.1,  # randomly shift images vertically (fraction of total height)\n",
    "        horizontal_flip=False,  # randomly flip images\n",
    "        vertical_flip=False)  # randomly flip images"
   ]
  },
  {
   "cell_type": "code",
   "execution_count": 12,
   "metadata": {},
   "outputs": [],
   "source": [
    "datagen.fit(X_train)"
   ]
  },
  {
   "cell_type": "code",
   "execution_count": 13,
   "metadata": {},
   "outputs": [
    {
     "name": "stdout",
     "output_type": "stream",
     "text": [
      "Epoch 1/500\n"
     ]
    },
    {
     "name": "stderr",
     "output_type": "stream",
     "text": [
      "INFO:plaidml:Analyzing Ops: 446 of 677 operations complete\n"
     ]
    },
    {
     "name": "stdout",
     "output_type": "stream",
     "text": [
      " - 708s - loss: 0.0828 - acc: 0.9745 - val_loss: 0.0535 - val_acc: 0.9810\n",
      "Epoch 2/500\n",
      " - 691s - loss: 0.0245 - acc: 0.9921 - val_loss: 0.0186 - val_acc: 0.9929\n",
      "Epoch 3/500\n",
      " - 691s - loss: 0.0178 - acc: 0.9943 - val_loss: 0.0262 - val_acc: 0.9929\n",
      "Epoch 4/500\n",
      " - 691s - loss: 0.0144 - acc: 0.9954 - val_loss: 0.0268 - val_acc: 0.9914\n",
      "Epoch 5/500\n",
      " - 691s - loss: 0.0120 - acc: 0.9961 - val_loss: 0.0131 - val_acc: 0.9952\n",
      "Epoch 6/500\n",
      " - 691s - loss: 0.0107 - acc: 0.9966 - val_loss: 0.0512 - val_acc: 0.9824\n",
      "Epoch 7/500\n",
      " - 691s - loss: 0.0094 - acc: 0.9970 - val_loss: 0.0185 - val_acc: 0.9933\n",
      "Epoch 8/500\n",
      " - 690s - loss: 0.0084 - acc: 0.9973 - val_loss: 0.1068 - val_acc: 0.9662\n",
      "\n",
      "Epoch 00008: ReduceLROnPlateau reducing learning rate to 0.0005000000237487257.\n",
      "Epoch 9/500\n",
      " - 691s - loss: 0.0048 - acc: 0.9985 - val_loss: 0.0078 - val_acc: 0.9967\n",
      "Epoch 10/500\n",
      " - 691s - loss: 0.0040 - acc: 0.9987 - val_loss: 0.0028 - val_acc: 0.9995\n",
      "Epoch 11/500\n",
      " - 691s - loss: 0.0039 - acc: 0.9987 - val_loss: 0.0028 - val_acc: 0.9981\n",
      "Epoch 12/500\n",
      " - 691s - loss: 0.0040 - acc: 0.9987 - val_loss: 0.0048 - val_acc: 0.9981\n",
      "Epoch 13/500\n",
      " - 691s - loss: 0.0036 - acc: 0.9988 - val_loss: 0.0041 - val_acc: 0.9981\n",
      "\n",
      "Epoch 00013: ReduceLROnPlateau reducing learning rate to 0.0002500000118743628.\n",
      "Epoch 14/500\n",
      " - 691s - loss: 0.0022 - acc: 0.9993 - val_loss: 0.0024 - val_acc: 0.9990\n",
      "Epoch 15/500\n",
      " - 691s - loss: 0.0020 - acc: 0.9994 - val_loss: 0.0053 - val_acc: 0.9981\n",
      "Epoch 16/500\n",
      " - 691s - loss: 0.0021 - acc: 0.9993 - val_loss: 4.9247e-04 - val_acc: 0.9995\n",
      "\n",
      "Epoch 00016: ReduceLROnPlateau reducing learning rate to 0.0001250000059371814.\n",
      "Epoch 17/500\n",
      " - 691s - loss: 0.0014 - acc: 0.9996 - val_loss: 4.7575e-04 - val_acc: 1.0000\n",
      "Epoch 18/500\n",
      " - 691s - loss: 0.0014 - acc: 0.9996 - val_loss: 9.3626e-04 - val_acc: 0.9995\n",
      "Epoch 19/500\n",
      " - 690s - loss: 0.0012 - acc: 0.9996 - val_loss: 4.3494e-04 - val_acc: 1.0000\n",
      "Epoch 20/500\n",
      " - 689s - loss: 0.0013 - acc: 0.9996 - val_loss: 6.7549e-04 - val_acc: 0.9995\n",
      "\n",
      "Epoch 00020: ReduceLROnPlateau reducing learning rate to 6.25000029685907e-05.\n",
      "Epoch 21/500\n",
      " - 690s - loss: 0.0011 - acc: 0.9997 - val_loss: 1.5460e-04 - val_acc: 1.0000\n",
      "Epoch 22/500\n",
      " - 691s - loss: 0.0011 - acc: 0.9997 - val_loss: 1.8370e-04 - val_acc: 1.0000\n",
      "Epoch 23/500\n",
      " - 691s - loss: 9.7412e-04 - acc: 0.9997 - val_loss: 3.3048e-04 - val_acc: 1.0000\n",
      "\n",
      "Epoch 00023: ReduceLROnPlateau reducing learning rate to 3.125000148429535e-05.\n",
      "Epoch 24/500\n",
      " - 691s - loss: 9.4105e-04 - acc: 0.9997 - val_loss: 1.9713e-04 - val_acc: 1.0000\n",
      "Epoch 25/500\n",
      " - 690s - loss: 8.2832e-04 - acc: 0.9998 - val_loss: 2.1612e-04 - val_acc: 1.0000\n",
      "Epoch 26/500\n",
      " - 690s - loss: 8.7914e-04 - acc: 0.9997 - val_loss: 1.6882e-04 - val_acc: 1.0000\n",
      "\n",
      "Epoch 00026: ReduceLROnPlateau reducing learning rate to 1.5625000742147677e-05.\n",
      "Epoch 27/500\n",
      " - 691s - loss: 8.5302e-04 - acc: 0.9997 - val_loss: 1.7330e-04 - val_acc: 1.0000\n",
      "Epoch 28/500\n",
      " - 691s - loss: 8.6429e-04 - acc: 0.9998 - val_loss: 2.0418e-04 - val_acc: 1.0000\n",
      "Epoch 29/500\n",
      " - 691s - loss: 8.0226e-04 - acc: 0.9998 - val_loss: 2.0277e-04 - val_acc: 1.0000\n",
      "\n",
      "Epoch 00029: ReduceLROnPlateau reducing learning rate to 1e-05.\n",
      "Epoch 30/500\n",
      " - 691s - loss: 8.4882e-04 - acc: 0.9998 - val_loss: 1.4456e-04 - val_acc: 1.0000\n",
      "Epoch 31/500\n",
      " - 691s - loss: 8.0249e-04 - acc: 0.9998 - val_loss: 1.5958e-04 - val_acc: 1.0000\n"
     ]
    }
   ],
   "source": [
    "import scipy.ndimage\n",
    "history = model.fit_generator(datagen.flow(X_train,y_train, batch_size=batch_size),\n",
    "                              epochs = epochs, validation_data = (X_test,y_test),\n",
    "                              verbose = 2, steps_per_epoch=X_train.shape[0] // batch_size\n",
    "                              , callbacks=[learning_rate_reduction, early_stopping])"
   ]
  },
  {
   "cell_type": "markdown",
   "metadata": {},
   "source": [
    "## Building our results"
   ]
  },
  {
   "cell_type": "code",
   "execution_count": 14,
   "metadata": {},
   "outputs": [],
   "source": [
    "results = model.predict(test_data)"
   ]
  },
  {
   "cell_type": "code",
   "execution_count": 15,
   "metadata": {},
   "outputs": [],
   "source": [
    "results = np.argmax(results,axis = 1)"
   ]
  },
  {
   "cell_type": "code",
   "execution_count": 16,
   "metadata": {},
   "outputs": [
    {
     "data": {
      "image/png": "[encoded data removed]",
      "text/plain": [
       "<Figure size 1080x432 with 40 Axes>"
      ]
     },
     "metadata": {
      "needs_background": "light"
     },
     "output_type": "display_data"
    }
   ],
   "source": [
    "# Preview predictions\n",
    "plt.figure(figsize=(15,6))\n",
    "for i in range(40):  \n",
    "    plt.subplot(4, 10, i+1)\n",
    "    plt.imshow(test_data[i][:,:,0], cmap='gray')\n",
    "    plt.title(\"predict=%d\" % results[i],y=0.9)\n",
    "    plt.axis('off')\n",
    "plt.subplots_adjust(wspace=0.3, hspace=-0.1)\n",
    "plt.show()"
   ]
  },
  {
   "cell_type": "code",
   "execution_count": 17,
   "metadata": {},
   "outputs": [],
   "source": [
    "# Exporting our results for Kaggle\n",
    "df = pd.DataFrame(results)\n",
    "df.index.name='ImageId'\n",
    "df.index+=1\n",
    "df.columns=['Label']\n",
    "df.to_csv('./datasets/results.csv', header=True)"
   ]
  },
  {
   "cell_type": "code",
   "execution_count": null,
   "metadata": {},
   "outputs": [],
   "source": []
  }
 ],
 "metadata": {
  "kernelspec": {
   "display_name": "Python 3",
   "language": "python",
   "name": "python3"
  },
  "language_info": {
   "codemirror_mode": {
    "name": "ipython",
    "version": 3
   },
   "file_extension": ".py",
   "mimetype": "text/x-python",
   "name": "python",
   "nbconvert_exporter": "python",
   "pygments_lexer": "ipython3",
   "version": "3.6.7"
  }
 },
 "nbformat": 4,
 "nbformat_minor": 1
}
